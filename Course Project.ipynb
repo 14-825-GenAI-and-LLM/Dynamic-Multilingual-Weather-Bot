{
 "cells": [
  {
   "cell_type": "code",
   "execution_count": 92,
   "id": "6bd3e7ae-586d-44dc-b854-8b289cb98224",
   "metadata": {},
   "outputs": [],
   "source": [
    "import os\n",
    "from langchain_community.utilities import OpenWeatherMapAPIWrapper"
   ]
  },
  {
   "cell_type": "code",
   "execution_count": 93,
   "id": "5eefeb4a-d012-488f-b366-59aa0f46d093",
   "metadata": {},
   "outputs": [],
   "source": [
    "import streamlit as st\n",
    "import vertexai\n",
    "from langchain_google_vertexai import VertexAI\n",
    "from langchain import PromptTemplate\n",
    "from langchain.chains import LLMChain, SequentialChain\n",
    "import numpy as np"
   ]
  },
  {
   "cell_type": "code",
   "execution_count": 94,
   "id": "931b0451-2117-4324-9cfd-8a25b16166b1",
   "metadata": {},
   "outputs": [],
   "source": [
    "os.environ[\"GOOGLE_APPLICATION_CREDENTIALS\"]=\"key.json\" # place the key JSON file in the same folder as your notebook"
   ]
  },
  {
   "cell_type": "code",
   "execution_count": 95,
   "id": "fa557947-f2a5-46d1-844a-e0c2cebbe5d2",
   "metadata": {},
   "outputs": [],
   "source": [
    "PROJECT_ID = \"gen-ai-llm-14825\" # use your project id \n",
    "REGION = \"us-central1\"  #\n",
    "BUCKET_URI = f\"gs://gen-ai-llm-bucket\"  # create your own bucket"
   ]
  },
  {
   "cell_type": "code",
   "execution_count": 96,
   "id": "2a037daf-127b-4d79-8611-122fa65e4016",
   "metadata": {},
   "outputs": [],
   "source": [
    "vertexai.init(project=PROJECT_ID, location=REGION, staging_bucket=BUCKET_URI)"
   ]
  },
  {
   "cell_type": "code",
   "execution_count": 110,
   "id": "9e422c82-0905-4bc6-87b9-8762ff352a70",
   "metadata": {},
   "outputs": [],
   "source": [
    "llm1 = VertexAI(\n",
    "    model_name=\"text-bison@001\",\n",
    "    max_output_tokens=256,\n",
    "    temperature=0.5,\n",
    "    top_p=0.8,\n",
    "    top_k=40,\n",
    "    verbose=True,\n",
    ")"
   ]
  },
  {
   "cell_type": "code",
   "execution_count": 116,
   "id": "04a5b67d-e307-413f-8115-1cd1a4a63d6d",
   "metadata": {},
   "outputs": [],
   "source": [
    "llm2 = VertexAI(\n",
    "    model_name=\"gemini-pro\",\n",
    "    max_output_tokens=256,\n",
    "    temperature=0.5,\n",
    "    top_p=0.8,\n",
    "    top_k=40,\n",
    "    verbose=True,\n",
    ")"
   ]
  },
  {
   "cell_type": "code",
   "execution_count": 117,
   "id": "9b2774ce-9963-4494-beb1-2a1a6f3a00e1",
   "metadata": {},
   "outputs": [],
   "source": [
    "os.environ[\"OPENWEATHERMAP_API_KEY\"] = '5708941459d96133b31f54f2f15bd9aa'\n",
    "weather = OpenWeatherMapAPIWrapper()"
   ]
  },
  {
   "cell_type": "code",
   "execution_count": 141,
   "id": "8ca8e54b-cc0b-4db1-b57b-d82e47d4331e",
   "metadata": {},
   "outputs": [
    {
     "name": "stdout",
     "output_type": "stream",
     "text": [
      "In Pittsburgh, the current weather is as follows:\n",
      "Detailed status: light snow\n",
      "Wind speed: 3.6 m/s, direction: 220°\n",
      "Humidity: 63%\n",
      "Temperature: \n",
      "  - Current: 1.65°C\n",
      "  - High: 2.84°C\n",
      "  - Low: 0.43°C\n",
      "  - Feels like: -1.98°C\n",
      "Rain: {}\n",
      "Heat index: None\n",
      "Cloud cover: 100%\n"
     ]
    }
   ],
   "source": [
    "weather_data = weather.run(\"Pittsburgh\")\n",
    "print(weather_data)"
   ]
  },
  {
   "cell_type": "code",
   "execution_count": 119,
   "id": "e6d0141a-26fe-47d8-86a7-1490171562eb",
   "metadata": {},
   "outputs": [],
   "source": [
    "my_text = f\"The user wants to know the temperature and Humidity and Cloud Cover about the following data. Here is the data: {weather_data}\""
   ]
  },
  {
   "cell_type": "code",
   "execution_count": 120,
   "id": "24f15912-0b98-4e0a-a72c-e45550731a98",
   "metadata": {},
   "outputs": [
    {
     "data": {
      "text/plain": [
       "'The current temperature in Pittsburgh is 3.02 degrees Celsius. The humidity is 51% and the cloud cover is 100%.'"
      ]
     },
     "execution_count": 120,
     "metadata": {},
     "output_type": "execute_result"
    }
   ],
   "source": [
    "llm1(my_text)"
   ]
  },
  {
   "cell_type": "code",
   "execution_count": 121,
   "id": "d7c42a46-9965-4ed7-be82-1028dc35c6f0",
   "metadata": {},
   "outputs": [
    {
     "name": "stdout",
     "output_type": "stream",
     "text": [
      "**Temperature:**\n",
      "- Current: 3.02°C\n",
      "- High: 4.0°C\n",
      "- Low: 1.66°C\n",
      "- Feels like: 1.0°C\n",
      "\n",
      "**Humidity:** 51%\n",
      "\n",
      "**Cloud cover:** 100% (overcast clouds)"
     ]
    }
   ],
   "source": [
    "llm2.invoke(my_text)\n",
    "await llm2.ainvoke(my_text)\n",
    "for chunk in llm2.stream(my_text):\n",
    "    print(chunk, end=\"\", flush=True)"
   ]
  },
  {
   "cell_type": "code",
   "execution_count": null,
   "id": "279ee386-4ee2-4e3f-8b71-3b31ef725a87",
   "metadata": {},
   "outputs": [],
   "source": []
  },
  {
   "cell_type": "code",
   "execution_count": 131,
   "id": "0f743653-f507-4e43-98d1-43eb188558fd",
   "metadata": {},
   "outputs": [],
   "source": [
    "Temperature_Box = st.sidebar.checkbox(label=\"Temperature\", value=True, disabled=True)\n",
    "Humidity_Box = st.sidebar.checkbox(label=\"Humidity\") \n",
    "Cloud_Cover_Box = st.sidebar.checkbox(label=\"Cloud Cover\")\n",
    "Percipitation_Box = st.sidebar.checkbox(label=\"Percipitation\")\n",
    "Wind_Box = st.sidebar.checkbox(label=\"Wind Speed/Direction\", value=True, disabled=True)"
   ]
  },
  {
   "cell_type": "code",
   "execution_count": null,
   "id": "db1807ab-66ea-4355-a87a-9aed739b3c42",
   "metadata": {},
   "outputs": [],
   "source": [
    "st.title(\"Weather Finder\")"
   ]
  },
  {
   "cell_type": "code",
   "execution_count": 68,
   "id": "4d77b77c-6478-4ec5-8651-d021d118320a",
   "metadata": {},
   "outputs": [
    {
     "ename": "NameError",
     "evalue": "name 'col2' is not defined",
     "output_type": "error",
     "traceback": [
      "\u001b[0;31m---------------------------------------------------------------------------\u001b[0m",
      "\u001b[0;31mNameError\u001b[0m                                 Traceback (most recent call last)",
      "Cell \u001b[0;32mIn[68], line 1\u001b[0m\n\u001b[0;32m----> 1\u001b[0m generate_result \u001b[38;5;241m=\u001b[39m \u001b[43mcol2\u001b[49m\u001b[38;5;241m.\u001b[39mbutton(\u001b[38;5;124m\"\u001b[39m\u001b[38;5;124mTell Me!\u001b[39m\u001b[38;5;124m\"\u001b[39m)\n\u001b[1;32m      2\u001b[0m \u001b[38;5;28;01mif\u001b[39;00m generate_result:\n\u001b[1;32m      3\u001b[0m     user_wants \u001b[38;5;241m=\u001b[39m np\u001b[38;5;241m.\u001b[39marray[Temperature_Box, Humidity_Box]\n",
      "\u001b[0;31mNameError\u001b[0m: name 'col2' is not defined"
     ]
    }
   ],
   "source": [
    "generate_result = col2.button(\"Tell Me!\")\n",
    "if generate_result:\n",
    "    #Selecting the what the user wants to see using mask\n",
    "    user_wants = np.array([Temperature_Box, Humidity_Box, Cloud_Cover_Box, Percipitation_Box, Wind_Box])\n",
    "    strings= np.array([\"Temperature\", \"Humidity\", \"Cloud Cover\", \"Percipitation\", \"Wind Speed/Direction\"])\n",
    "    selected_strings = strings[user_wants]\n",
    "\n",
    "    #Depending on what they want, we join the strings correclty to pass to LLM in a good format\n",
    "    if len(selected_strings) > 2:\n",
    "        output = \", \".join(selected_strings[:-1]) + \" and \" + selected_strings[-1] #if we have more than 2 we want to add \"and\" for the last\n",
    "    elif len(selected_strings) == 2:\n",
    "        output = \" and \".join(selected_strings) #if we have only 2 we want to add \"and\" \n",
    "    else:\n",
    "        output = selected_strings[0] # do nothing \n",
    "\n",
    "    prompt_template_weather = PromptTemplate(\n",
    "        input_variables=['output', 'weather_data'],\n",
    "        template= 'The user wants to know the {output} about the following data. Here is the data: {weather_data}. Please reply with the location name and the requested data.'\n",
    "        )\n",
    "        \n",
    "        #Create Prompt for the LLM. Note we pass the requests in output and the weather data as a string. \n",
    "    \n",
    "    chain = LLMChain(llm=llm1, prompt=prompt_template_weather) #Create our chain and print to Streamlit\n",
    "    result = chain.run(output=output, weather_data=weather_data)\n",
    "    st.write(result)\n",
    "\n",
    "    \n",
    "    \n"
   ]
  },
  {
   "cell_type": "code",
   "execution_count": 69,
   "id": "ed375530-870e-4216-9497-458279807246",
   "metadata": {},
   "outputs": [],
   "source": []
  },
  {
   "cell_type": "code",
   "execution_count": 70,
   "id": "91195775-c821-4a1b-84e7-7f1f9727783e",
   "metadata": {},
   "outputs": [],
   "source": []
  },
  {
   "cell_type": "code",
   "execution_count": 127,
   "id": "bfe313e8-1e19-4f77-8dbb-1665430bf5b1",
   "metadata": {},
   "outputs": [
    {
     "name": "stdout",
     "output_type": "stream",
     "text": [
      "['Temperature' 'Humidity']\n"
     ]
    }
   ],
   "source": [
    "#EXAMPLE FOR MASKING \n",
    "\n",
    "# Temp = True\n",
    "# Humid = True\n",
    "# user_wants = np.array([Temp, Humid])\n",
    "# strings= np.array([\"Temperature\", \"Humidity\"])\n",
    "# output = strings[user_wants]\n",
    "# print(output)"
   ]
  },
  {
   "cell_type": "code",
   "execution_count": 82,
   "id": "41d7ae21-2652-4501-ae5a-db27d4b24104",
   "metadata": {},
   "outputs": [],
   "source": [
    "# output = \", \".join(output)\n",
    "# print(output)"
   ]
  },
  {
   "cell_type": "markdown",
   "id": "caba6a4a-984d-4da9-99e4-5b05d826559e",
   "metadata": {},
   "source": [
    "# TEST CELLS BELOW DO NOT TRANSFER TO PY FILE "
   ]
  },
  {
   "cell_type": "code",
   "execution_count": 137,
   "id": "4311d498-ced7-4272-8e95-7c88ee90624a",
   "metadata": {},
   "outputs": [],
   "source": [
    "user_wants = np.array([Temperature_Box, Humidity_Box, Cloud_Cover_Box, Percipitation_Box, Wind_Box])\n",
    "strings= np.array([\"Temperature\", \"Humidity\", \"Cloud Cover\", \"Percipitation\", \"Wind Speed/Direction\"])\n",
    "selected_strings = strings[user_wants]\n",
    "if len(selected_strings) > 2:\n",
    "    output = \", \".join(selected_strings[:-1]) + \" and \" + selected_strings[-1] #if we have more than 2 we want to add \"and\" for the last\n",
    "elif len(selected_strings) == 2:\n",
    "    output = \" and \".join(selected_strings) #if we have only 2 we want to add \"and\" \n",
    "else:\n",
    "    output = selected_strings[0] # do nothing "
   ]
  },
  {
   "cell_type": "code",
   "execution_count": 138,
   "id": "e23cba95-e7d7-41c2-ad77-922163c1402a",
   "metadata": {},
   "outputs": [
    {
     "name": "stdout",
     "output_type": "stream",
     "text": [
      "Temperature and Wind Speed/Direction\n"
     ]
    }
   ],
   "source": [
    "print(output)"
   ]
  },
  {
   "cell_type": "code",
   "execution_count": null,
   "id": "569241a7-d60c-4ace-9151-c91d105222f4",
   "metadata": {},
   "outputs": [],
   "source": []
  }
 ],
 "metadata": {
  "kernelspec": {
   "display_name": "Python 3",
   "language": "python",
   "name": "python3"
  },
  "language_info": {
   "codemirror_mode": {
    "name": "ipython",
    "version": 3
   },
   "file_extension": ".py",
   "mimetype": "text/x-python",
   "name": "python",
   "nbconvert_exporter": "python",
   "pygments_lexer": "ipython3",
   "version": "3.9.18"
  }
 },
 "nbformat": 4,
 "nbformat_minor": 5
}
